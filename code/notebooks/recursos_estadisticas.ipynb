{
 "cells": [
  {
   "cell_type": "code",
   "execution_count": null,
   "metadata": {},
   "outputs": [],
   "source": [
    "# Jupyter Notebook: analisis_recursos.ipynb\n",
    "\n",
    "# =====================================================\n",
    "# 0. Instalar dependencias\n",
    "# =====================================================\n",
    "\n",
    "%pip install pandas\n",
    "%pip install matplotlib\n",
    "%pip install seaborn\n",
    "%pip install numpy\n",
    "%pip install openpyxl"
   ]
  },
  {
   "cell_type": "code",
   "execution_count": null,
   "metadata": {},
   "outputs": [],
   "source": [
    "# analisis_distribucion_columas.ipynb\n",
    "\n",
    "# =====================================================\n",
    "# 1. Importar librerías\n",
    "# =====================================================\n",
    "import pandas as pd\n",
    "import matplotlib.pyplot as plt\n",
    "import seaborn as sns\n",
    "from collections import Counter\n",
    "\n",
    "# Para que los gráficos se vean en el notebook\n",
    "%matplotlib inline\n",
    "\n",
    "# Configuración estética \n",
    "sns.set(style=\"whitegrid\", palette=\"muted\", font_scale=1.1)\n",
    "\n",
    "# =====================================================\n",
    "# 2. Cargar el archivo en un DataFrame\n",
    "# =====================================================\n",
    "\n",
    "df_thetech = pd.read_excel(\"../Recursos/OutputEditado.xlsx\")\n",
    "\n",
    "# Combinando los DataFrames (si hubiera más de uno)\n",
    "df = pd.concat([df_thetech], axis=0, ignore_index=True)\n",
    "\n",
    "print(\"Filas y columnas:\", df.shape)\n",
    "df.head()"
   ]
  },
  {
   "cell_type": "code",
   "execution_count": null,
   "metadata": {},
   "outputs": [],
   "source": [
    "# =====================================================\n",
    "# 3. Definir columnas a excluir del análisis\n",
    "# =====================================================\n",
    "exclude_cols = [\"Filename\", \"Name\", \"URL\"]\n",
    "columns_to_analyze = [c for c in df.columns if c not in exclude_cols]\n",
    "\n",
    "print(\"Columnas que se van a analizar:\\n\", columns_to_analyze)"
   ]
  },
  {
   "cell_type": "code",
   "execution_count": null,
   "metadata": {},
   "outputs": [],
   "source": [
    "# =====================================================\n",
    "# 4. Función para separar valores múltiples\n",
    "# =====================================================\n",
    "def split_multivalue(column_series):\n",
    "    \"\"\"\n",
    "    Convierte strings con valores separados por comas en listas de valores.\n",
    "    Ejemplo: 'Abstracción, Descomposición' -> ['Abstracción', 'Descomposición']\n",
    "    \"\"\"\n",
    "    # Reemplazamos NaN por cadena vacía para evitar errores al hacer split\n",
    "    column_series = column_series.fillna(\"\")\n",
    "    \n",
    "    # En cada fila se separan por comas y se limpian espacios\n",
    "    splitted_lists = []\n",
    "    for cell in column_series:\n",
    "        # Separamos por comas\n",
    "        parts = cell.split(\",\")\n",
    "        # Eliminamos espacios sobrantes y cadenas vacías\n",
    "        parts = [p.strip() for p in parts if p.strip() != \"\"]\n",
    "        splitted_lists.append(parts)\n",
    "    \n",
    "    return splitted_lists"
   ]
  },
  {
   "cell_type": "code",
   "execution_count": null,
   "metadata": {},
   "outputs": [],
   "source": [
    "# =====================================================\n",
    "# 5. Análisis de la distribución de cada columna\n",
    "# =====================================================\n",
    "for col in columns_to_analyze:\n",
    "    # Parseamos la columna (por si tiene múltiples valores)\n",
    "    list_of_lists = split_multivalue(df[col])\n",
    "\n",
    "    # Unimos todo en una sola lista para contar frecuencias\n",
    "    combined = []\n",
    "    for items in list_of_lists:\n",
    "        combined.extend(items)\n",
    "\n",
    "    # Creamos el contador de frecuencia\n",
    "    counter = Counter(combined)\n",
    "    \n",
    "    # Si una columna está realmente vacía (sin datos válidos), continuamos\n",
    "    if not counter:\n",
    "        print(f\"\\n[Columna '{col}'] No tiene datos o todos están vacíos.\")\n",
    "        continue\n",
    "    \n",
    "    # Imprimimos la distribución\n",
    "    print(f\"\\n=== Distribución de la columna '{col}' ===\")\n",
    "    for key, count in counter.most_common():\n",
    "        print(f\"  {key}: {count} recurso(s)\")\n",
    "\n",
    "    # Representamos en un gráfico de barras si hay más de un valor\n",
    "    if len(counter) > 1:        \n",
    "        plt.figure(figsize=(8, 4))\n",
    "        plt.bar(counter.keys(), counter.values(), color=\"skyblue\")\n",
    "        plt.title(f\"Distribución - {col}\")\n",
    "        plt.xlabel(col)\n",
    "        plt.ylabel(\"Frecuencia\")\n",
    "        plt.xticks(rotation=45, ha=\"right\")\n",
    "        plt.tight_layout()\n",
    "        plt.show()\n",
    "    else:\n",
    "        print(\"  (Solo existe un valor único en esta columna, sin gráfico.)\")"
   ]
  }
 ],
 "metadata": {
  "kernelspec": {
   "display_name": "Python 3",
   "language": "python",
   "name": "python3"
  },
  "language_info": {
   "codemirror_mode": {
    "name": "ipython",
    "version": 3
   },
   "file_extension": ".py",
   "mimetype": "text/x-python",
   "name": "python",
   "nbconvert_exporter": "python",
   "pygments_lexer": "ipython3",
   "version": "3.10.11"
  }
 },
 "nbformat": 4,
 "nbformat_minor": 2
}
