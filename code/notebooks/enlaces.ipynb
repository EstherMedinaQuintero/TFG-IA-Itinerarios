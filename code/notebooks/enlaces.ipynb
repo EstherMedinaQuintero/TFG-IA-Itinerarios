{
 "cells": [
  {
   "cell_type": "code",
   "execution_count": null,
   "metadata": {},
   "outputs": [],
   "source": [
    "%pip install pandas\n",
    "%pip install spacy\n",
    "%pip install difflib\n",
    "%pip install numpy\n",
    "%pip install sklearn"
   ]
  },
  {
   "cell_type": "code",
   "execution_count": null,
   "metadata": {},
   "outputs": [],
   "source": [
    "import pandas as pd\n",
    "import spacy\n",
    "from difflib import get_close_matches\n",
    "from sklearn.metrics.pairwise import cosine_similarity\n",
    "import numpy as np\n",
    "\n",
    "# Descargar el modelo de lenguaje en español\n",
    "!python -m spacy download es_core_news_md\n",
    "\n",
    "# Cargar modelo de lenguaje\n",
    "nlp = spacy.load(\"es_core_news_md\")\n",
    "\n",
    "# Cargar los archivos Excel\n",
    "file_ceibal_combine = \"../data/Ceibal.xlsx\"\n",
    "file_codeorg_combine = \"../data/CodeOrg.xlsx\"\n",
    "file_thetech_combine = \"../data/TheTech.xlsx\"\n",
    "file_restantes_combine = \"../data/Restantes.xlsx\"\n",
    "file2 = \"Enlaces.xlsx\"\n",
    "\n",
    "df_ceibal = pd.read_excel(file_ceibal_combine)\n",
    "df_codeorg = pd.read_excel(file_codeorg_combine)\n",
    "df_thetech = pd.read_excel(file_thetech_combine)\n",
    "df_restantes = pd.read_excel(file_restantes_combine)\n",
    "\n",
    "df1 = pd.concat([df_ceibal, df_codeorg, df_thetech, df_restantes], ignore_index=True)  # Datos principales combinados\n",
    "df2 = pd.read_excel(file2, header=None, names=[\"Name\", \"URL\"])  # Datos con URLs"
   ]
  },
  {
   "cell_type": "code",
   "execution_count": null,
   "metadata": {},
   "outputs": [],
   "source": [
    "# Pasarlos a string\n",
    "df1 = df1.astype(str)\n",
    "df2 = df2.astype(str)\n",
    "\n",
    "# Comprobar el tipo de nuevo\n",
    "print(df1.dtypes)\n",
    "print(df2.dtypes)"
   ]
  },
  {
   "cell_type": "code",
   "execution_count": null,
   "metadata": {},
   "outputs": [],
   "source": [
    "# Crear una nueva columna URL en df1\n",
    "df1[\"URL\"] = \"\"\n",
    "\n",
    "# Crear un diccionario basado en los nombres de df2\n",
    "url_dict = {row[\"Name\"].lower(): row[\"URL\"] for _, row in df2.iterrows()}\n",
    "\n",
    "def get_semantic_match(target, choices):\n",
    "    \"\"\"Encuentra la mejor coincidencia semántica usando embeddings de spaCy.\"\"\"\n",
    "    target_doc = nlp(target)\n",
    "    best_match = None\n",
    "    best_score = 0.0\n",
    "    \n",
    "    for choice in choices:\n",
    "        choice_doc = nlp(choice)\n",
    "        similarity = target_doc.similarity(choice_doc)\n",
    "        if similarity > best_score:\n",
    "            best_score = similarity\n",
    "            best_match = choice\n",
    "    \n",
    "    return best_match if best_score > 0.7 else None  # Umbral de 0.7 para coincidencias confiables\n",
    "\n",
    "# Intentar coincidencias exactas basadas en el Filename\n",
    "for idx, row in df1.iterrows():\n",
    "    filename = str(row[\"Filename\"]).strip()\n",
    "    name = str(row[\"Name\"]).strip().lower()\n",
    "    \n",
    "    # Buscar coincidencia basada en filename\n",
    "    for key, url in url_dict.items():\n",
    "        if filename in url:\n",
    "            df1.at[idx, \"URL\"] = url\n",
    "            break\n",
    "    \n",
    "    # Si no encontró por filename, buscar por name (semántico)\n",
    "    if not df1.at[idx, \"URL\"]:\n",
    "        best_match = get_semantic_match(name, url_dict.keys())\n",
    "        if best_match:\n",
    "            df1.at[idx, \"URL\"] = url_dict[best_match]\n",
    "        else:\n",
    "            # Si no hay coincidencia semántica, buscar coincidencia basada en caracteres\n",
    "            match = get_close_matches(name, url_dict.keys(), n=1, cutoff=0.6)\n",
    "            if match:\n",
    "                df1.at[idx, \"URL\"] = url_dict[match[0]]\n",
    "\n",
    "# Guardar el resultado en un nuevo archivo Excel\n",
    "output_file = \"output.xlsx\"\n",
    "df1.to_excel(output_file, index=False)\n",
    "\n",
    "print(f\"Archivo guardado en {output_file}\")"
   ]
  },
  {
   "cell_type": "code",
   "execution_count": null,
   "metadata": {},
   "outputs": [],
   "source": [
    "# Mostrar el resultado\n",
    "df1.head()"
   ]
  }
 ],
 "metadata": {
  "kernelspec": {
   "display_name": "Python 3",
   "language": "python",
   "name": "python3"
  },
  "language_info": {
   "codemirror_mode": {
    "name": "ipython",
    "version": 3
   },
   "file_extension": ".py",
   "mimetype": "text/x-python",
   "name": "python",
   "nbconvert_exporter": "python",
   "pygments_lexer": "ipython3",
   "version": "3.10.11"
  }
 },
 "nbformat": 4,
 "nbformat_minor": 2
}
